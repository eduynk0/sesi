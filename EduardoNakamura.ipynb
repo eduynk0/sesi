{
  "nbformat": 4,
  "nbformat_minor": 0,
  "metadata": {
    "colab": {
      "provenance": [],
      "toc_visible": true,
      "include_colab_link": true
    },
    "kernelspec": {
      "name": "python3",
      "display_name": "Python 3"
    },
    "language_info": {
      "name": "python"
    }
  },
  "cells": [
    {
      "cell_type": "markdown",
      "metadata": {
        "id": "view-in-github",
        "colab_type": "text"
      },
      "source": [
        "<a href=\"https://colab.research.google.com/github/eduynk0/sesi/blob/main/EduardoNakamura.ipynb\" target=\"_parent\"><img src=\"https://colab.research.google.com/assets/colab-badge.svg\" alt=\"Open In Colab\"/></a>"
      ]
    },
    {
      "cell_type": "markdown",
      "source": [
        "# Estruturas condicionais (if-else)"
      ],
      "metadata": {
        "id": "Lno5huzou_Kq"
      }
    },
    {
      "cell_type": "markdown",
      "source": [
        "Exercício 1. Faça um Programa que peça dois números e imprima o maior deles."
      ],
      "metadata": {
        "id": "f30Aa2O6o1JB"
      }
    },
    {
      "cell_type": "code",
      "source": [
        "print(\"Qual é o maior?\")\n",
        "n1 = float(input(\"Número 1:\"))\n",
        "n2 = float(input(\"Número 2:\"))\n",
        "\n",
        "if n1 > n2:\n",
        "  print(\"O número 1 é maior.\")\n",
        "elif n1 < n2:\n",
        "  print(\"O número 2 é maior.\")\n",
        "else:\n",
        "  print(\"Os números são iguais\")\n"
      ],
      "metadata": {
        "id": "I3nTgHNxo4xx"
      },
      "execution_count": null,
      "outputs": []
    },
    {
      "cell_type": "markdown",
      "source": [
        "Exercício 2. Faça um programa para a leitura de notas parciais de um aluno. O programa deve calcular a média alcançada por aluno e apresentar:\n",
        "\n",
        "    A mensagem \"Aprovado\", se a média alcançada for maior ou igual a sete;\n",
        "    A mensagem \"Reprovado\", se a média for menor do que sete;"
      ],
      "metadata": {
        "id": "mZn3MTQOQXky"
      }
    },
    {
      "cell_type": "code",
      "source": [
        "notas = 0\n",
        "somanotas = 0\n",
        "\n",
        "try:\n",
        "  while True:\n",
        "    somanotas += float(input(f\"Nota {notas+1}:\"))\n",
        "    notas += 1\n",
        "\n",
        "except:\n",
        "  media = round(somanotas/notas, 2)\n",
        "  print(f\"A média das {notas} notas foi {media}\")\n",
        "  if media < 7:\n",
        "    print(\"Reprovado\")\n",
        "  else:\n",
        "    print(\"Aprovado\")"
      ],
      "metadata": {
        "id": "ylKzmf76p2ed"
      },
      "execution_count": null,
      "outputs": []
    },
    {
      "cell_type": "markdown",
      "source": [
        "Exercício 3. Faça um Programa que leia três números e mostre o maior deles."
      ],
      "metadata": {
        "id": "32yKZNXJQjRi"
      }
    },
    {
      "cell_type": "code",
      "source": [
        "numero = 0\n",
        "lista = []\n",
        "\n",
        "try:\n",
        "  while True:\n",
        "    lista.append(int(input(f\"Número {numero+1}:\")))\n",
        "    numero += 1\n",
        "\n",
        "except:\n",
        "  lista.sort(reverse = True)\n",
        "  print(lista[0])"
      ],
      "metadata": {
        "colab": {
          "base_uri": "https://localhost:8080/"
        },
        "id": "cCm9X3VkqONw",
        "outputId": "e6e9817d-76fa-44b2-cd69-bc4c9f7fb122"
      },
      "execution_count": null,
      "outputs": [
        {
          "output_type": "stream",
          "name": "stdout",
          "text": [
            "Número 1:10\n",
            "Número 2:20\n",
            "Número 3:15\n",
            "Número 4:\n",
            "20.0\n"
          ]
        }
      ]
    },
    {
      "cell_type": "markdown",
      "source": [
        "Exercício 4. Faça um Programa que pergunte em que turno você estuda. Peça para digitar M-matutino ou V-Vespertino ou N- Noturno. Imprima a mensagem \"Bom Dia!\", \"Boa Tarde!\" ou \"Boa Noite!\" ou \"Valor Inválido!\", conforme o caso."
      ],
      "metadata": {
        "id": "DsocE8l7QsJr"
      }
    },
    {
      "cell_type": "code",
      "source": [
        "turno = input(\"Qual turno você estuda (M-matutino, V-Vespertino, N- Noturno)?\").lower()\n",
        "\n",
        "match turno:\n",
        "  case \"m\":\n",
        "    print(\"Bom Dia!\")\n",
        "  case \"v\":\n",
        "    print(\"Boa Tarde!\")\n",
        "  case \"n\":\n",
        "    print(\"Boa Noite!\")\n",
        "  case _:\n",
        "    print(\"O turno não foi identificado\")"
      ],
      "metadata": {
        "colab": {
          "base_uri": "https://localhost:8080/"
        },
        "id": "AGWeZrNwreqq",
        "outputId": "112d0e21-e014-424a-b9c3-04b7d094d67d"
      },
      "execution_count": null,
      "outputs": [
        {
          "output_type": "stream",
          "name": "stdout",
          "text": [
            "Qual turno você estuda (M-matutino, V-Vespertino, N- Noturno)?oi\n",
            "O turno não foi identificado\n"
          ]
        }
      ]
    },
    {
      "cell_type": "markdown",
      "source": [
        "Exercício 5. Uma fruteira está vendendo frutas com a seguinte tabela de preços:\n",
        "\n",
        "                          Até 5 Kg           Acima de 5 Kg\n",
        "    Morango         R$ 2,50 por Kg          R$ 2,20 por Kg\n",
        "    Maçã            R$ 1,80 por Kg          R$ 1,50 por Kg\n",
        "\n",
        "Se o cliente comprar mais de 8 Kg em frutas ou o valor total da compra ultrapassar R$ 25,00, receberá ainda um desconto de 10% sobre este total. Escreva um algoritmo para ler a quantidade (em Kg) de morangos e a quantidade (em Kg) de maças adquiridas e escreva o valor a ser pago pelo cliente."
      ],
      "metadata": {
        "id": "qINxWNuaRECZ"
      }
    },
    {
      "cell_type": "code",
      "source": [
        "morango = round(float(input(\"Quantos Kg de morango? \")), 2)\n",
        "maca = round(float(input(\"Quantos Kg de maca? \")), 2)\n",
        "\n",
        "if morango < 5:\n",
        "  print(f\"O preço pago pelas maçãs é de R$:{morango * 2.50}\")\n",
        "\n",
        "else:\n",
        "  print(f\"O preço pago pelas maçãs é de R$:{morango * 2.20}\")\n",
        "\n",
        "if maca < 5:\n",
        "  print(f\"O preço pago pelas maçãs é de R$:{maca * 1.80}\")\n",
        "\n",
        "else:\n",
        "  print(f\"O preço pago pelas maçãs é de R$:{maca * 1.50}\")"
      ],
      "metadata": {
        "colab": {
          "base_uri": "https://localhost:8080/"
        },
        "id": "zlTjYeOGs2NV",
        "outputId": "ee7f7c13-f2d0-40bd-c99e-d8734fc1e12f"
      },
      "execution_count": null,
      "outputs": [
        {
          "output_type": "stream",
          "name": "stdout",
          "text": [
            "Quantos Kg de morango? 10\n",
            "Quantos Kg de maca? 20\n",
            "O preço pago pelas maçãs é de R$:25.0\n",
            "O preço pago pelas maçãs é de R$:36.0\n"
          ]
        }
      ]
    }
  ]
}